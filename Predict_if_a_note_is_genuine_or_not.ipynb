{
  "nbformat": 4,
  "nbformat_minor": 0,
  "metadata": {
    "colab": {
      "name": "Predict_if_a_note_is_genuine_or_not.ipynb",
      "provenance": [],
      "include_colab_link": true
    },
    "kernelspec": {
      "name": "python3",
      "display_name": "Python 3"
    },
    "accelerator": "GPU"
  },
  "cells": [
    {
      "cell_type": "markdown",
      "metadata": {
        "id": "view-in-github",
        "colab_type": "text"
      },
      "source": [
        "<a href=\"https://colab.research.google.com/github/anshultaneja/Deep_Learning_Model_With_Bank_Note_Binary_Classification/blob/main/Predict_if_a_note_is_genuine_or_not.ipynb\" target=\"_parent\"><img src=\"https://colab.research.google.com/assets/colab-badge.svg\" alt=\"Open In Colab\"/></a>"
      ]
    },
    {
      "cell_type": "markdown",
      "metadata": {
        "id": "XuXXXtedzVzV"
      },
      "source": [
        "### **Introduction**\n",
        "\n",
        "Classification is a process of dividing the given data points into two or more classes. When the number of classes = 2, it is known as Binary Classification.\n",
        "\n",
        "In this notebook, we'll be performing Binary Classification to predict if a note is genuine or not.\n",
        "\n",
        "There are 2 classes:\n",
        "\n",
        "1. Note is genuine (class=1)\n",
        "2. Note is not genuine (class=0)"
      ]
    },
    {
      "cell_type": "markdown",
      "metadata": {
        "id": "i1UsmC95zHOH"
      },
      "source": [
        "### **Data Description**\n",
        "\n",
        "VWTI: Variance of Wavelet Transformed Image\n",
        "\n",
        "SWTI: Skewness of Wavelet Transformed Image\n",
        "\n",
        "CWTI: Curtosis of Wavelet Transformed Image\n",
        "\n",
        "EI: Entropy of Image\n",
        "\n",
        "Class: Class (1: genuine, 0: forged)\n",
        "]"
      ]
    },
    {
      "cell_type": "markdown",
      "metadata": {
        "id": "dY6ovKb_zuEI"
      },
      "source": [
        "# Loading the basic Data Science Libraries\n",
        "In data science, numpy, pandas and matplotlib are most commonly used libraries. We chose alias names for our libraries for the sake of our convenience (numpy --> np and pandas --> pd, matplotlib.pyplot as plt)."
      ]
    },
    {
      "cell_type": "code",
      "metadata": {
        "id": "vJAEk7nbyE0P"
      },
      "source": [
        "import numpy as np  # for matrix operations\n",
        "import pandas as pd  # for loading CSV Files\n",
        "import matplotlib.pyplot as plt # for Data Visualizationw"
      ],
      "execution_count": null,
      "outputs": []
    },
    {
      "cell_type": "markdown",
      "metadata": {
        "id": "gcpvRAk7z_Sb"
      },
      "source": [
        "# Loading Data\n",
        "Pandas module is used for reading files. Since we have our data in '.csv' format, we will use 'read_csv()' function for loading the data."
      ]
    },
    {
      "cell_type": "code",
      "metadata": {
        "id": "44mclUsIygQV"
      },
      "source": [
        "bank_note_data = pd.read_csv(\"https://raw.githubusercontent.com/dphi-official/Datasets/master/bank_note_data/training_set_label.csv\" )"
      ],
      "execution_count": null,
      "outputs": []
    },
    {
      "cell_type": "code",
      "metadata": {
        "id": "MazbNClU0YG2",
        "colab": {
          "base_uri": "https://localhost:8080/",
          "height": 204
        },
        "outputId": "c494c437-827d-4fec-d921-14a74b74afb5"
      },
      "source": [
        "bank_note_data.head() #head function displays the first 5 rows by default"
      ],
      "execution_count": null,
      "outputs": [
        {
          "output_type": "execute_result",
          "data": {
            "text/html": [
              "<div>\n",
              "<style scoped>\n",
              "    .dataframe tbody tr th:only-of-type {\n",
              "        vertical-align: middle;\n",
              "    }\n",
              "\n",
              "    .dataframe tbody tr th {\n",
              "        vertical-align: top;\n",
              "    }\n",
              "\n",
              "    .dataframe thead th {\n",
              "        text-align: right;\n",
              "    }\n",
              "</style>\n",
              "<table border=\"1\" class=\"dataframe\">\n",
              "  <thead>\n",
              "    <tr style=\"text-align: right;\">\n",
              "      <th></th>\n",
              "      <th>VWTI</th>\n",
              "      <th>SWTI</th>\n",
              "      <th>CWTI</th>\n",
              "      <th>EI</th>\n",
              "      <th>Class</th>\n",
              "    </tr>\n",
              "  </thead>\n",
              "  <tbody>\n",
              "    <tr>\n",
              "      <th>0</th>\n",
              "      <td>2.2634</td>\n",
              "      <td>-4.4862</td>\n",
              "      <td>3.6558</td>\n",
              "      <td>-0.612510</td>\n",
              "      <td>0</td>\n",
              "    </tr>\n",
              "    <tr>\n",
              "      <th>1</th>\n",
              "      <td>3.2718</td>\n",
              "      <td>1.7837</td>\n",
              "      <td>2.1161</td>\n",
              "      <td>0.613340</td>\n",
              "      <td>0</td>\n",
              "    </tr>\n",
              "    <tr>\n",
              "      <th>2</th>\n",
              "      <td>-3.9411</td>\n",
              "      <td>-12.8792</td>\n",
              "      <td>13.0597</td>\n",
              "      <td>-3.312500</td>\n",
              "      <td>1</td>\n",
              "    </tr>\n",
              "    <tr>\n",
              "      <th>3</th>\n",
              "      <td>0.5195</td>\n",
              "      <td>-3.2633</td>\n",
              "      <td>3.0895</td>\n",
              "      <td>-0.984900</td>\n",
              "      <td>0</td>\n",
              "    </tr>\n",
              "    <tr>\n",
              "      <th>4</th>\n",
              "      <td>2.5698</td>\n",
              "      <td>-4.4076</td>\n",
              "      <td>5.9856</td>\n",
              "      <td>0.078002</td>\n",
              "      <td>0</td>\n",
              "    </tr>\n",
              "  </tbody>\n",
              "</table>\n",
              "</div>"
            ],
            "text/plain": [
              "     VWTI     SWTI     CWTI        EI  Class\n",
              "0  2.2634  -4.4862   3.6558 -0.612510      0\n",
              "1  3.2718   1.7837   2.1161  0.613340      0\n",
              "2 -3.9411 -12.8792  13.0597 -3.312500      1\n",
              "3  0.5195  -3.2633   3.0895 -0.984900      0\n",
              "4  2.5698  -4.4076   5.9856  0.078002      0"
            ]
          },
          "metadata": {
            "tags": []
          },
          "execution_count": 5
        }
      ]
    },
    {
      "cell_type": "code",
      "metadata": {
        "id": "Xr3LGXdL0o1i",
        "colab": {
          "base_uri": "https://localhost:8080/",
          "height": 34
        },
        "outputId": "be862eee-d202-4f78-9cac-90f9d22e9b9f"
      },
      "source": [
        "bank_note_data.shape # This gives the shape of the DataFrame i.e the (no. of rows, no. of columns)"
      ],
      "execution_count": null,
      "outputs": [
        {
          "output_type": "execute_result",
          "data": {
            "text/plain": [
              "(1096, 5)"
            ]
          },
          "metadata": {
            "tags": []
          },
          "execution_count": 6
        }
      ]
    },
    {
      "cell_type": "markdown",
      "metadata": {
        "id": "Hp_-PgGV0_uF"
      },
      "source": [
        "# Separating Input and Target Variable\n",
        "**Target Variable/ Independent Variable(y):** Our objective is to detect the presence of heart disease. Thus, our target variable will be the column that indicates whether heart disease is present or not. \n",
        "\n",
        "We'll store that column in a variable y.\n",
        "\n",
        "**Input Variables/ Dependent Variables(X):** The remaining columns, without the Target variable will be stored in variable X."
      ]
    },
    {
      "cell_type": "code",
      "metadata": {
        "id": "KrrgFsb41EqW"
      },
      "source": [
        "X = bank_note_data.drop('Class', axis=1) #Input variables\n",
        "# axis=1 indicates that a column will be dropped\n",
        "y = bank_note_data['Class']  # Target variable"
      ],
      "execution_count": null,
      "outputs": []
    },
    {
      "cell_type": "markdown",
      "metadata": {
        "id": "kXfohC6u1eu-"
      },
      "source": [
        "# Splitting into Train and Test Sets\n",
        "The next step will be to divide the data into test and train sets. We want to check the performance of the model that we built. For this purpose, we always split (both input and output data) the given data into **train set** which will be used to train the model, and **test set** which will be used to check how accurately the model is predicting outcomes.\n",
        "\n",
        "This is achieved using `train_test_split` function provided in the `model_selection class of sklearn` module.\n",
        "\n",
        "By passing our X and y variables into the train_test_split method, we are able to capture the splits in data by assigning 4 variables to the result.\n",
        "\n",
        "* **X_train:** independent/input feature data for training the model\n",
        "* **y_train:** dependent/output feature data for training the model\n",
        "* **X_test:** independent/input feature data for testing the model; will be used to predict the output values\n",
        "* **y_test:** original dependent/output values of X_test; We will compare this values with our predicted values to check the performance of our built model.\n",
        "* **test_size = 0.20:** 20% of the data will go for test set and 80% of the data will go for train set\n",
        "* **random_state = 42:** this is just for code reproducability. It will fix the split i.e. there will be the same data in train and test sets each time you run the code"
      ]
    },
    {
      "cell_type": "code",
      "metadata": {
        "id": "9Z801Zj_1fdm"
      },
      "source": [
        "from sklearn.model_selection import train_test_split\n",
        "X_train, X_test, y_train, y_test = train_test_split(X, y, test_size=0.2, random_state=42)"
      ],
      "execution_count": null,
      "outputs": []
    },
    {
      "cell_type": "code",
      "metadata": {
        "id": "oOFCOrnw1uz1",
        "colab": {
          "base_uri": "https://localhost:8080/",
          "height": 34
        },
        "outputId": "a6294a08-1e73-4a85-da0a-0e276c4ea115"
      },
      "source": [
        "# find the number of input features\n",
        "X_train.shape[1]"
      ],
      "execution_count": null,
      "outputs": [
        {
          "output_type": "execute_result",
          "data": {
            "text/plain": [
              "4"
            ]
          },
          "metadata": {
            "tags": []
          },
          "execution_count": 11
        }
      ]
    },
    {
      "cell_type": "markdown",
      "metadata": {
        "id": "SIQzwLyF11WZ"
      },
      "source": [
        "# Model Building\n",
        "Now that we have our data fully processed and split into training and testing datasets, we can begin building a neural network to solve this classification problem. "
      ]
    },
    {
      "cell_type": "code",
      "metadata": {
        "id": "capBwltU12Tn"
      },
      "source": [
        "# Imports\n",
        "import tensorflow as tf  # Importing the TensorFlow Library\n",
        "from tensorflow import keras  # Import Keras from TensorFlow\n",
        "\n",
        "from tensorflow.keras import Sequential \n",
        "from tensorflow.keras import layers\n",
        "from tensorflow.keras.layers import Dense"
      ],
      "execution_count": null,
      "outputs": []
    },
    {
      "cell_type": "markdown",
      "metadata": {
        "id": "t5925Ncc2CYd"
      },
      "source": [
        "## Model Creation/ Definition\n",
        "We create a Sequential model and add layers one at a time until we are happy with our network architecture.\n",
        "\n",
        "The first thing to get right is to ensure the input layer has the right number of input features.\n",
        "\n",
        "Since this is a binary classification problem, we will use a sigmoid activation function in the final layer of our network.\n",
        "\n",
        "**Sigmoid is commonly used in the output layer. This is because it helps in giving a probability(value between 0 and 1) which is useful in Binary Classification.**"
      ]
    },
    {
      "cell_type": "markdown",
      "metadata": {
        "id": "gu5u9f0y2Hl5"
      },
      "source": [
        "### Our model architecture\n",
        "For our model, we'll be considering the following:\n",
        "\n",
        "* Input = the no. of features in X_train = 13\n",
        "* No. of neurons/units in first Dense layer = 32\n",
        "* No. of neurons/units in second Dense layer = 16\n",
        "* No. of neurons/units in third Dense layer = 8\n",
        "* No. of neurons/units in output layer = 1"
      ]
    },
    {
      "cell_type": "code",
      "metadata": {
        "id": "KwcxpTV62ML2"
      },
      "source": [
        "# Building the model\n",
        "model = Sequential()\n",
        "model.add(Dense(32, activation='relu', input_shape=(X_train.shape[1],)))   \n",
        "model.add(Dense(16, activation='relu'))\n",
        "model.add(Dense(8, activation='relu'))\n",
        "model.add(Dense(1, activation='sigmoid'))     "
      ],
      "execution_count": null,
      "outputs": []
    },
    {
      "cell_type": "markdown",
      "metadata": {
        "id": "oGNc9SK12YY3"
      },
      "source": [
        "* The above code creates a Neural Network that has 4 layers. \n",
        "\n",
        "* The **last node** uses the **sigmoid activation function** that will squeeze all the values between 0 and 1.\n",
        "\n",
        "* The other layers use **ReLU (Rectified Linear Units)** as the activation function. ReLU is a half rectified function; that is, for all the inputs less than 0 (e.g. -120,-6.7, -0.0344, 0) the value is 0 while for anything positive (e.g. 10,15, 34) the value is retained. \n",
        "\n",
        "* One output unit is used since for each record values in X, a probability will be predicted. If it is high, then the note is genuine. If it is less, then the note is not genuine."
      ]
    },
    {
      "cell_type": "markdown",
      "metadata": {
        "id": "ju1uPVJs2rtu"
      },
      "source": [
        "## Model Compilation"
      ]
    },
    {
      "cell_type": "code",
      "metadata": {
        "id": "FLqBhVE42wiE"
      },
      "source": [
        "# Compiling the model\n",
        "from tensorflow.keras.optimizers import RMSprop\n",
        "optimizer = RMSprop(0.001)  # Here, we have set our learning rate as 0.001\n",
        "model.compile(loss='binary_crossentropy', optimizer= optimizer , metrics=['accuracy'])"
      ],
      "execution_count": null,
      "outputs": []
    },
    {
      "cell_type": "code",
      "metadata": {
        "id": "MsTAIyQL24I9",
        "colab": {
          "base_uri": "https://localhost:8080/",
          "height": 289
        },
        "outputId": "40e3e571-51a2-49e2-8b04-a8c034487268"
      },
      "source": [
        "# printing the summary of the model\n",
        "model.summary()"
      ],
      "execution_count": null,
      "outputs": [
        {
          "output_type": "stream",
          "text": [
            "Model: \"sequential\"\n",
            "_________________________________________________________________\n",
            "Layer (type)                 Output Shape              Param #   \n",
            "=================================================================\n",
            "dense (Dense)                (None, 32)                160       \n",
            "_________________________________________________________________\n",
            "dense_1 (Dense)              (None, 16)                528       \n",
            "_________________________________________________________________\n",
            "dense_2 (Dense)              (None, 8)                 136       \n",
            "_________________________________________________________________\n",
            "dense_3 (Dense)              (None, 1)                 9         \n",
            "=================================================================\n",
            "Total params: 833\n",
            "Trainable params: 833\n",
            "Non-trainable params: 0\n",
            "_________________________________________________________________\n"
          ],
          "name": "stdout"
        }
      ]
    },
    {
      "cell_type": "code",
      "metadata": {
        "id": "C7iNySlf2-sF",
        "colab": {
          "base_uri": "https://localhost:8080/",
          "height": 466
        },
        "outputId": "d11c0804-398d-4f8d-f5f3-9b296b5a611a"
      },
      "source": [
        "# plotting the model\n",
        "from tensorflow.keras.utils import plot_model\n",
        "plot_model(model)"
      ],
      "execution_count": null,
      "outputs": [
        {
          "output_type": "execute_result",
          "data": {
            "image/png": "[encoded data removed]",
            "text/plain": [
              "<IPython.core.display.Image object>"
            ]
          },
          "metadata": {
            "tags": []
          },
          "execution_count": 16
        }
      ]
    },
    {
      "cell_type": "markdown",
      "metadata": {
        "id": "GKqFKUD_3HJk"
      },
      "source": [
        "## Model Training\n",
        "The model is initially trained for **200 epochs** with a **batch size of 10**. \n",
        "Both epochs and batch size are hyperparameters that can be modified to optimise the model.\n",
        "\n",
        "**validation_split:** Fraction of the training data to be used as validation data. The model will set apart this fraction of the training data, will not train on it, and will evaluate the loss and any model metrics on this data at the end of each epoch. \n",
        "The val_loss and val_accuracy that you can see below are calculated with this validation data.\n",
        "\n",
        "You'll learn more about the importance of validation data later. \n",
        "\n",
        "**verbose:** Verbose is just for printing purposes, for making the output more readable.\n"
      ]
    },
    {
      "cell_type": "markdown",
      "metadata": {
        "id": "NVzuSw6e3MSn"
      },
      "source": [
        "### History\n",
        "Notice that we're saving the trained model to a variable **history**. \n",
        "\n",
        "When running a model, Tensorflow Keras maintains a so-called History object in the background. This object keeps all loss values and other metric values in memory so that they can be used for visualizations.\n",
        "\n",
        "The history object is the output of the fit operation."
      ]
    },
    {
      "cell_type": "code",
      "metadata": {
        "id": "UitPpc2Q3QxK"
      },
      "source": [
        "history = model.fit(X_train, y_train, validation_split=0.2, epochs=200, batch_size=10, verbose=1)"
      ],
      "execution_count": null,
      "outputs": []
    },
    {
      "cell_type": "markdown",
      "metadata": {
        "id": "_1Qemmg83t9U"
      },
      "source": [
        "## Model Evaluation\n",
        "Evaluating the model requires that you first choose a separate dataset used to evaluate the model. This should be data not used in the training process i.e. the X_test.\n",
        "\n",
        "Now, let us use the trained model to predict the probability values for the new data set - The test set we had initially created. The below code passes the X_test and y_test to the trained model and gives out the probability."
      ]
    },
    {
      "cell_type": "code",
      "metadata": {
        "id": "RakwKTN63xXr",
        "colab": {
          "base_uri": "https://localhost:8080/",
          "height": 51
        },
        "outputId": "576dbf3e-4770-466c-dfb1-2eb341792c8c"
      },
      "source": [
        "model.evaluate(X_test, y_test)"
      ],
      "execution_count": null,
      "outputs": [
        {
          "output_type": "stream",
          "text": [
            "7/7 [==============================] - 0s 3ms/step - loss: 4.5538e-08 - accuracy: 1.0000\n"
          ],
          "name": "stdout"
        },
        {
          "output_type": "execute_result",
          "data": {
            "text/plain": [
              "[4.553756127734232e-08, 1.0]"
            ]
          },
          "metadata": {
            "tags": []
          },
          "execution_count": 18
        }
      ]
    },
    {
      "cell_type": "markdown",
      "metadata": {
        "id": "jxzypkQU36Ct"
      },
      "source": [
        "### Model Accuracy\n",
        "Now, we'll use the history object created above to plot the Accuracy and Loss throughout the training process.\n",
        "\n",
        "You can think of history.history as a Python dictionary from which the values can be obtained by specifying a key within square brackets.\n",
        "\n",
        "For eg. `history.history['accuracy']` will give the train accuracy throughout the training process."
      ]
    },
    {
      "cell_type": "code",
      "metadata": {
        "id": "UEaLK66a37wr",
        "colab": {
          "base_uri": "https://localhost:8080/",
          "height": 295
        },
        "outputId": "7d050245-fb78-458f-d326-857b5d2d7d0a"
      },
      "source": [
        "plt.plot(history.history['accuracy'])\n",
        "plt.plot(history.history['val_accuracy'])\n",
        "plt.title('Model Accuracy')\n",
        "plt.ylabel('accuracy')\n",
        "plt.xlabel('epoch')\n",
        "plt.legend(['Train', 'Validation'])\n",
        "plt.show()"
      ],
      "execution_count": null,
      "outputs": [
        {
          "output_type": "display_data",
          "data": {
            "image/png": "[encoded data removed]",
            "text/plain": [
              "<Figure size 432x288 with 1 Axes>"
            ]
          },
          "metadata": {
            "tags": [],
            "needs_background": "light"
          }
        }
      ]
    },
    {
      "cell_type": "markdown",
      "metadata": {
        "id": "rAi1mZIY4FLo"
      },
      "source": [
        "### Model Loss"
      ]
    },
    {
      "cell_type": "code",
      "metadata": {
        "id": "-q68G3cc4G_u",
        "colab": {
          "base_uri": "https://localhost:8080/",
          "height": 295
        },
        "outputId": "1e212f73-d1e4-4590-f5d4-8849badea46b"
      },
      "source": [
        "plt.plot(history.history['loss'])\n",
        "plt.plot(history.history['val_loss'])\n",
        "plt.title('Model Loss')\n",
        "plt.ylabel('loss')\n",
        "plt.xlabel('epoch')\n",
        "plt.legend(['Train', 'Validation'])\n",
        "plt.show()"
      ],
      "execution_count": null,
      "outputs": [
        {
          "output_type": "display_data",
          "data": {
            "image/png": "[encoded data removed]",
            "text/plain": [
              "<Figure size 432x288 with 1 Axes>"
            ]
          },
          "metadata": {
            "tags": [],
            "needs_background": "light"
          }
        }
      ]
    },
    {
      "cell_type": "markdown",
      "metadata": {
        "id": "P6vloXI_4Y5N"
      },
      "source": [
        "## **Test Dataset**"
      ]
    },
    {
      "cell_type": "code",
      "metadata": {
        "id": "kGmwuJVS4eF6"
      },
      "source": [
        "test_data = pd.read_csv('https://raw.githubusercontent.com/dphi-official/Datasets/master/bank_note_data/testing_set_label.csv')"
      ],
      "execution_count": null,
      "outputs": []
    },
    {
      "cell_type": "code",
      "metadata": {
        "id": "1OI5nOVA4ivN",
        "colab": {
          "base_uri": "https://localhost:8080/",
          "height": 204
        },
        "outputId": "c0b74cc2-70be-497a-d157-daa7701f5e1e"
      },
      "source": [
        "test_data.head()"
      ],
      "execution_count": null,
      "outputs": [
        {
          "output_type": "execute_result",
          "data": {
            "text/html": [
              "<div>\n",
              "<style scoped>\n",
              "    .dataframe tbody tr th:only-of-type {\n",
              "        vertical-align: middle;\n",
              "    }\n",
              "\n",
              "    .dataframe tbody tr th {\n",
              "        vertical-align: top;\n",
              "    }\n",
              "\n",
              "    .dataframe thead th {\n",
              "        text-align: right;\n",
              "    }\n",
              "</style>\n",
              "<table border=\"1\" class=\"dataframe\">\n",
              "  <thead>\n",
              "    <tr style=\"text-align: right;\">\n",
              "      <th></th>\n",
              "      <th>VWTI</th>\n",
              "      <th>SWTI</th>\n",
              "      <th>CWTI</th>\n",
              "      <th>EI</th>\n",
              "    </tr>\n",
              "  </thead>\n",
              "  <tbody>\n",
              "    <tr>\n",
              "      <th>0</th>\n",
              "      <td>-0.40804</td>\n",
              "      <td>0.54214</td>\n",
              "      <td>-0.52725</td>\n",
              "      <td>0.65860</td>\n",
              "    </tr>\n",
              "    <tr>\n",
              "      <th>1</th>\n",
              "      <td>-3.71810</td>\n",
              "      <td>-8.50890</td>\n",
              "      <td>12.36300</td>\n",
              "      <td>-0.95518</td>\n",
              "    </tr>\n",
              "    <tr>\n",
              "      <th>2</th>\n",
              "      <td>5.50400</td>\n",
              "      <td>10.36710</td>\n",
              "      <td>-4.41300</td>\n",
              "      <td>-4.02110</td>\n",
              "    </tr>\n",
              "    <tr>\n",
              "      <th>3</th>\n",
              "      <td>1.68490</td>\n",
              "      <td>8.74890</td>\n",
              "      <td>-1.26410</td>\n",
              "      <td>-1.38580</td>\n",
              "    </tr>\n",
              "    <tr>\n",
              "      <th>4</th>\n",
              "      <td>4.74320</td>\n",
              "      <td>2.10860</td>\n",
              "      <td>0.13680</td>\n",
              "      <td>1.65430</td>\n",
              "    </tr>\n",
              "  </tbody>\n",
              "</table>\n",
              "</div>"
            ],
            "text/plain": [
              "      VWTI      SWTI      CWTI       EI\n",
              "0 -0.40804   0.54214  -0.52725  0.65860\n",
              "1 -3.71810  -8.50890  12.36300 -0.95518\n",
              "2  5.50400  10.36710  -4.41300 -4.02110\n",
              "3  1.68490   8.74890  -1.26410 -1.38580\n",
              "4  4.74320   2.10860   0.13680  1.65430"
            ]
          },
          "metadata": {
            "tags": []
          },
          "execution_count": 22
        }
      ]
    },
    {
      "cell_type": "code",
      "metadata": {
        "id": "_Wo6zJYh4q70",
        "colab": {
          "base_uri": "https://localhost:8080/",
          "height": 34
        },
        "outputId": "989d278b-2248-4321-89d4-f148b2b2d535"
      },
      "source": [
        "test_data.shape"
      ],
      "execution_count": null,
      "outputs": [
        {
          "output_type": "execute_result",
          "data": {
            "text/plain": [
              "(275, 4)"
            ]
          },
          "metadata": {
            "tags": []
          },
          "execution_count": 23
        }
      ]
    },
    {
      "cell_type": "markdown",
      "metadata": {
        "id": "w44IByJNFNdH"
      },
      "source": [
        "### **Predictions**"
      ]
    },
    {
      "cell_type": "code",
      "metadata": {
        "id": "hF-jZv9O6y7s",
        "colab": {
          "base_uri": "https://localhost:8080/",
          "height": 88
        },
        "outputId": "deb5136f-3a72-4ffd-a48e-1cd450b8da9c"
      },
      "source": [
        "pred = model.predict_classes(test_data)"
      ],
      "execution_count": null,
      "outputs": [
        {
          "output_type": "stream",
          "text": [
            "WARNING:tensorflow:From <ipython-input-32-64e6f7aa9ef5>:1: Sequential.predict_classes (from tensorflow.python.keras.engine.sequential) is deprecated and will be removed after 2021-01-01.\n",
            "Instructions for updating:\n",
            "Please use instead:* `np.argmax(model.predict(x), axis=-1)`,   if your model does multi-class classification   (e.g. if it uses a `softmax` last-layer activation).* `(model.predict(x) > 0.5).astype(\"int32\")`,   if your model does binary classification   (e.g. if it uses a `sigmoid` last-layer activation).\n"
          ],
          "name": "stdout"
        }
      ]
    },
    {
      "cell_type": "markdown",
      "metadata": {
        "id": "LN-oyUgMFcze"
      },
      "source": [
        "### **Saving the Predictions**"
      ]
    },
    {
      "cell_type": "code",
      "metadata": {
        "id": "uaTg_xq-_P5H",
        "colab": {
          "base_uri": "https://localhost:8080/",
          "height": 17
        },
        "outputId": "51b02719-4894-458a-b894-a4488e56d5f2"
      },
      "source": [
        "res = pd.DataFrame(pred)\n",
        "res.index = test_data.index\n",
        "res.columns = ['pred']\n",
        "\n",
        "from google.colab import files\n",
        "res.to_csv('Prediction_results.csv')\n",
        "files.download('Prediction_results.csv')"
      ],
      "execution_count": null,
      "outputs": [
        {
          "output_type": "display_data",
          "data": {
            "application/javascript": [
              "\n",
              "    async function download(id, filename, size) {\n",
              "      if (!google.colab.kernel.accessAllowed) {\n",
              "        return;\n",
              "      }\n",
              "      const div = document.createElement('div');\n",
              "      const label = document.createElement('label');\n",
              "      label.textContent = `Downloading \"${filename}\": `;\n",
              "      div.appendChild(label);\n",
              "      const progress = document.createElement('progress');\n",
              "      progress.max = size;\n",
              "      div.appendChild(progress);\n",
              "      document.body.appendChild(div);\n",
              "\n",
              "      const buffers = [];\n",
              "      let downloaded = 0;\n",
              "\n",
              "      const channel = await google.colab.kernel.comms.open(id);\n",
              "      // Send a message to notify the kernel that we're ready.\n",
              "      channel.send({})\n",
              "\n",
              "      for await (const message of channel.messages) {\n",
              "        // Send a message to notify the kernel that we're ready.\n",
              "        channel.send({})\n",
              "        if (message.buffers) {\n",
              "          for (const buffer of message.buffers) {\n",
              "            buffers.push(buffer);\n",
              "            downloaded += buffer.byteLength;\n",
              "            progress.value = downloaded;\n",
              "          }\n",
              "        }\n",
              "      }\n",
              "      const blob = new Blob(buffers, {type: 'application/binary'});\n",
              "      const a = document.createElement('a');\n",
              "      a.href = window.URL.createObjectURL(blob);\n",
              "      a.download = filename;\n",
              "      div.appendChild(a);\n",
              "      a.click();\n",
              "      div.remove();\n",
              "    }\n",
              "  "
            ],
            "text/plain": [
              "<IPython.core.display.Javascript object>"
            ]
          },
          "metadata": {
            "tags": []
          }
        },
        {
          "output_type": "display_data",
          "data": {
            "application/javascript": [
              "download(\"download_d7852575-2ab6-44ff-a9c5-8b2ba5a95cd7\", \"Prediction_results.csv\", 1546)"
            ],
            "text/plain": [
              "<IPython.core.display.Javascript object>"
            ]
          },
          "metadata": {
            "tags": []
          }
        }
      ]
    }
  ]
}